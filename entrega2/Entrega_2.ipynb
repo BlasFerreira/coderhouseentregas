{
  "nbformat": 4,
  "nbformat_minor": 0,
  "metadata": {
    "colab": {
      "provenance": []
    },
    "kernelspec": {
      "name": "python3",
      "display_name": "Python 3"
    },
    "language_info": {
      "name": "python"
    }
  },
  "cells": [
    {
      "cell_type": "markdown",
      "source": [
        "# Install library"
      ],
      "metadata": {
        "id": "dCJVRN_81Fs9"
      }
    },
    {
      "cell_type": "code",
      "source": [
        "!pip install requests\n",
        "!pip install psycopg2"
      ],
      "metadata": {
        "colab": {
          "base_uri": "https://localhost:8080/"
        },
        "id": "ytob-qu3qyqy",
        "outputId": "ac589e5a-a5c6-42e3-97dd-27d40ee8bb72"
      },
      "execution_count": 31,
      "outputs": [
        {
          "output_type": "stream",
          "name": "stdout",
          "text": [
            "Requirement already satisfied: requests in /usr/local/lib/python3.10/dist-packages (2.31.0)\n",
            "Requirement already satisfied: charset-normalizer<4,>=2 in /usr/local/lib/python3.10/dist-packages (from requests) (3.3.1)\n",
            "Requirement already satisfied: idna<4,>=2.5 in /usr/local/lib/python3.10/dist-packages (from requests) (3.4)\n",
            "Requirement already satisfied: urllib3<3,>=1.21.1 in /usr/local/lib/python3.10/dist-packages (from requests) (2.0.7)\n",
            "Requirement already satisfied: certifi>=2017.4.17 in /usr/local/lib/python3.10/dist-packages (from requests) (2023.7.22)\n",
            "Requirement already satisfied: psycopg2 in /usr/local/lib/python3.10/dist-packages (2.9.9)\n"
          ]
        }
      ]
    },
    {
      "cell_type": "code",
      "source": [
        "#Download Librarys\n",
        "import psycopg2\n",
        "import requests\n",
        "import pandas as pd\n",
        "from psycopg2.extras import execute_values\n",
        "\n",
        "# Function Extract Data\n",
        "def extract_data():\n",
        "\n",
        "  url = 'https://tradestie.com/api/v1/apps/reddit'\n",
        "  headers = {\"Accept-Encoding\": \"gzip, deflate\"}\n",
        "\n",
        "  response = requests.get(url, headers=headers)\n",
        "  data = response.json()\n",
        "  df = pd.DataFrame(data)\n",
        "\n",
        "  return df\n",
        "\n",
        "\n",
        "# Conexion a la base de datos\n",
        "def connection_db():\n",
        "\n",
        "  url=\"data-engineer-cluster.cyhh5bfevlmn.us-east-1.redshift.amazonaws.com\"\n",
        "  data_base=\"data-engineer-database\"\n",
        "  user=\"fblasfacundo_coderhouse\"\n",
        "\n",
        "\n",
        "  try:\n",
        "      conn = psycopg2.connect(\n",
        "          host='data-engineer-cluster.cyhh5bfevlmn.us-east-1.redshift.amazonaws.com',\n",
        "          dbname=data_base,\n",
        "          user=user,\n",
        "          password='cU7tBjTI10',\n",
        "          port='5439'\n",
        "      )\n",
        "      print(\"Connected to Redshift successfully!\")\n",
        "\n",
        "      return conn\n",
        "\n",
        "  except Exception as e:\n",
        "      print(\"Unable to connect to Redshift.\")\n",
        "      print(e)\n",
        "\n",
        "#Funcion para ETL\n",
        "def cargar_en_redshift(conn, table_name, dataframe):\n",
        "    dtypes= dataframe.dtypes\n",
        "    cols= list(dtypes.index )\n",
        "    print(cols)\n",
        "    tipos= list(dtypes.values)\n",
        "    type_map = {'int64': 'INT','int32': 'INT','float64': 'FLOAT','object': 'VARCHAR(50)','bool':'BOOLEAN'}\n",
        "    sql_dtypes = [type_map[str(dtype)] for dtype in tipos]\n",
        "    # Definir formato SQL VARIABLE TIPO_DATO\n",
        "    column_defs = [f\"{name} {data_type}\" for name, data_type in zip(cols, sql_dtypes)]\n",
        "    # Combine column definitions into the CREATE TABLE statement\n",
        "    table_schema = f\"\"\"\n",
        "        CREATE TABLE IF NOT EXISTS {table_name} (\n",
        "            {', '.join(column_defs)}\n",
        "        )\n",
        "        SORTKEY (sentiment);\n",
        "        \"\"\"\n",
        "    #Crear la tabla\n",
        "    cur = conn.cursor()\n",
        "    cur.execute(table_schema)\n",
        "    # Generar los valores a insertar\n",
        "    values = [tuple(x) for x in dataframe.to_numpy()]\n",
        "    # Definir el INSERT\n",
        "    insert_sql = f\"INSERT INTO {table_name} ({', '.join(cols)}) VALUES %s\"\n",
        "    # Execute the transaction to insert the data\n",
        "    cur.execute(\"BEGIN\")\n",
        "    execute_values(cur, insert_sql, values)\n",
        "    cur.execute(\"COMMIT\")\n",
        "    print('Proceso terminado')\n",
        "\n",
        "\n"
      ],
      "metadata": {
        "id": "Spq33MGsvg9q"
      },
      "execution_count": 50,
      "outputs": []
    },
    {
      "cell_type": "markdown",
      "source": [
        "# Enviando tabla a Redshift"
      ],
      "metadata": {
        "id": "pBsSgA-ex5TN"
      }
    },
    {
      "cell_type": "code",
      "source": [
        "if __name__ == '__main__':\n",
        "\n",
        "  datab = extract_data()\n",
        "\n",
        "  conexion_db = connection_db()\n",
        "\n",
        "  cargar_en_redshift(conn=conexion_db, table_name='trade_data', dataframe= datab)"
      ],
      "metadata": {
        "colab": {
          "base_uri": "https://localhost:8080/"
        },
        "id": "MFW_Ej3lsDcD",
        "outputId": "a628120c-ddac-4ee7-8630-cf41b7d2425a"
      },
      "execution_count": 51,
      "outputs": [
        {
          "output_type": "stream",
          "name": "stdout",
          "text": [
            "Connected to Redshift successfully!\n",
            "['no_of_comments', 'sentiment', 'sentiment_score', 'ticker']\n",
            "Proceso terminado\n"
          ]
        }
      ]
    }
  ]
}