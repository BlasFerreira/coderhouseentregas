{
  "nbformat": 4,
  "nbformat_minor": 0,
  "metadata": {
    "colab": {
      "provenance": []
    },
    "kernelspec": {
      "name": "python3",
      "display_name": "Python 3"
    },
    "language_info": {
      "name": "python"
    }
  },
  "cells": [
    {
      "cell_type": "markdown",
      "source": [
        "# Install library"
      ],
      "metadata": {
        "id": "dCJVRN_81Fs9"
      }
    },
    {
      "cell_type": "code",
      "source": [
        "!pip install requests\n",
        "!pip install psycopg2"
      ],
      "metadata": {
        "colab": {
          "base_uri": "https://localhost:8080/"
        },
        "id": "ytob-qu3qyqy",
        "outputId": "6a8d5bcb-1c1e-4c27-8240-fe6b70a72ddb"
      },
      "execution_count": 2,
      "outputs": [
        {
          "output_type": "stream",
          "name": "stdout",
          "text": [
            "Requirement already satisfied: requests in /usr/local/lib/python3.10/dist-packages (2.31.0)\n",
            "Requirement already satisfied: charset-normalizer<4,>=2 in /usr/local/lib/python3.10/dist-packages (from requests) (3.3.0)\n",
            "Requirement already satisfied: idna<4,>=2.5 in /usr/local/lib/python3.10/dist-packages (from requests) (3.4)\n",
            "Requirement already satisfied: urllib3<3,>=1.21.1 in /usr/local/lib/python3.10/dist-packages (from requests) (2.0.6)\n",
            "Requirement already satisfied: certifi>=2017.4.17 in /usr/local/lib/python3.10/dist-packages (from requests) (2023.7.22)\n"
          ]
        }
      ]
    },
    {
      "cell_type": "code",
      "source": [
        "import psycopg2\n",
        "import requests\n",
        "import pandas as pd"
      ],
      "metadata": {
        "id": "KeLVfUeo1Cn3"
      },
      "execution_count": 21,
      "outputs": []
    },
    {
      "cell_type": "markdown",
      "source": [
        "# Extract Data"
      ],
      "metadata": {
        "id": "csWG63rb1ajb"
      }
    },
    {
      "cell_type": "code",
      "execution_count": 11,
      "metadata": {
        "id": "Gys1VzTFqvlM"
      },
      "outputs": [],
      "source": [
        "url = 'https://tradestie.com/api/v1/apps/reddit'\n",
        "headers = {\"Accept-Encoding\": \"gzip, deflate\"}\n",
        "\n",
        "response = requests.get(url, headers=headers)\n",
        "data = response.json()"
      ]
    },
    {
      "cell_type": "code",
      "source": [
        "df = pd.DataFrame(data)"
      ],
      "metadata": {
        "id": "uMzI1fQcsvPq"
      },
      "execution_count": 12,
      "outputs": []
    },
    {
      "cell_type": "code",
      "source": [
        "df.dtypes"
      ],
      "metadata": {
        "colab": {
          "base_uri": "https://localhost:8080/"
        },
        "id": "UlSQEN5BtrRS",
        "outputId": "01265480-0f7b-46a2-aa92-bd00e556d782"
      },
      "execution_count": 18,
      "outputs": [
        {
          "output_type": "execute_result",
          "data": {
            "text/plain": [
              "no_of_comments       int64\n",
              "sentiment           object\n",
              "sentiment_score    float64\n",
              "ticker              object\n",
              "dtype: object"
            ]
          },
          "metadata": {},
          "execution_count": 18
        }
      ]
    },
    {
      "cell_type": "markdown",
      "source": [
        "# Data Base Connection"
      ],
      "metadata": {
        "id": "ECn17dRj1kM1"
      }
    },
    {
      "cell_type": "code",
      "source": [
        "url=\"data-engineer-cluster.cyhh5bfevlmn.us-east-1.redshift.amazonaws.com\"\n",
        "data_base=\"data-engineer-database\"\n",
        "user=\"fblasfacundo_coderhouse\"\n",
        "\n",
        "\n",
        "try:\n",
        "    conn = psycopg2.connect(\n",
        "        host='data-engineer-cluster.cyhh5bfevlmn.us-east-1.redshift.amazonaws.com',\n",
        "        dbname=data_base,\n",
        "        user=user,\n",
        "        password='MY_PASSWORD',\n",
        "        port='5439'\n",
        "    )\n",
        "    print(\"Connected to Redshift successfully!\")\n",
        "\n",
        "except Exception as e:\n",
        "    print(\"Unable to connect to Redshift.\")\n",
        "    print(e)"
      ],
      "metadata": {
        "colab": {
          "base_uri": "https://localhost:8080/"
        },
        "id": "Spq33MGsvg9q",
        "outputId": "ab149836-42ff-4a64-96b3-14f15be062a7"
      },
      "execution_count": 17,
      "outputs": [
        {
          "output_type": "stream",
          "name": "stdout",
          "text": [
            "Connected to Redshift successfully!\n"
          ]
        }
      ]
    },
    {
      "cell_type": "markdown",
      "source": [
        "# Funcion para ETL\n"
      ],
      "metadata": {
        "id": "P_3_-w5txrxV"
      }
    },
    {
      "cell_type": "code",
      "source": [
        "from psycopg2.extras import execute_values\n",
        "\n",
        "def cargar_en_redshift(conn, table_name, dataframe):\n",
        "    dtypes= dataframe.dtypes\n",
        "    cols= list(dtypes.index )\n",
        "    tipos= list(dtypes.values)\n",
        "    type_map = {'int64': 'INT','int32': 'INT','float64': 'FLOAT','object': 'VARCHAR(50)','bool':'BOOLEAN'}\n",
        "    sql_dtypes = [type_map[str(dtype)] for dtype in tipos]\n",
        "    # Definir formato SQL VARIABLE TIPO_DATO\n",
        "    column_defs = [f\"{name} {data_type}\" for name, data_type in zip(cols, sql_dtypes)]\n",
        "    # Combine column definitions into the CREATE TABLE statement\n",
        "    table_schema = f\"\"\"\n",
        "        CREATE TABLE IF NOT EXISTS {table_name} (\n",
        "            {', '.join(column_defs)}\n",
        "        );\n",
        "        \"\"\"\n",
        "    # Crear la tabla\n",
        "    cur = conn.cursor()\n",
        "    cur.execute(table_schema)\n",
        "    # Generar los valores a insertar\n",
        "    values = [tuple(x) for x in dataframe.to_numpy()]\n",
        "    # Definir el INSERT\n",
        "    insert_sql = f\"INSERT INTO {table_name} ({', '.join(cols)}) VALUES %s\"\n",
        "    # Execute the transaction to insert the data\n",
        "    cur.execute(\"BEGIN\")\n",
        "    execute_values(cur, insert_sql, values)\n",
        "    cur.execute(\"COMMIT\")\n",
        "    print('Proceso terminado')"
      ],
      "metadata": {
        "id": "UodkKcIjxoJ5"
      },
      "execution_count": 19,
      "outputs": []
    },
    {
      "cell_type": "markdown",
      "source": [
        "# Paso 4: enviando a destino"
      ],
      "metadata": {
        "id": "pBsSgA-ex5TN"
      }
    },
    {
      "cell_type": "code",
      "source": [
        "cargar_en_redshift(conn=conn, table_name='tradestie', dataframe=df)"
      ],
      "metadata": {
        "colab": {
          "base_uri": "https://localhost:8080/"
        },
        "id": "6-o4Uf3xx9sG",
        "outputId": "9e26b4b3-9158-4a01-907c-faaee9a2cf8f"
      },
      "execution_count": 20,
      "outputs": [
        {
          "output_type": "stream",
          "name": "stdout",
          "text": [
            "Proceso terminado\n"
          ]
        }
      ]
    }
  ]
}